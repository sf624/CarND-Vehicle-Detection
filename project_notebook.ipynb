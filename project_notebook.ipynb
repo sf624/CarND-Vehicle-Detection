{
 "cells": [
  {
   "cell_type": "code",
   "execution_count": 1,
   "metadata": {},
   "outputs": [],
   "source": [
    "import matplotlib.image as mpimg\n",
    "import matplotlib.pyplot as plt\n",
    "import numpy as np\n",
    "import cv2\n",
    "import glob\n",
    "import time\n",
    "import pickle\n",
    "from sklearn.svm import LinearSVC\n",
    "from sklearn.preprocessing import StandardScaler\n",
    "from skimage.feature import hog\n",
    "from sklearn.model_selection import train_test_split\n",
    "from sklearn.externals import joblib\n",
    "from lesson_functions import *\n",
    "from scipy.ndimage.measurements import label"
   ]
  },
  {
   "cell_type": "code",
   "execution_count": 2,
   "metadata": {
    "collapsed": true
   },
   "outputs": [],
   "source": [
    "# Undistort image\n",
    "with open('wide_dist_pickle.p', mode='rb') as f:\n",
    "    calibration_data = pickle.load(f)\n",
    "    \n",
    "mtx = calibration_data[\"mtx\"]\n",
    "dist = calibration_data[\"dist\"]\n",
    "\n",
    "def undistort(img):\n",
    "    return cv2.undistort(img, mtx, dist, None, mtx)"
   ]
  },
  {
   "cell_type": "code",
   "execution_count": 3,
   "metadata": {
    "collapsed": true
   },
   "outputs": [],
   "source": [
    "# Load SVC data\n",
    "with open('svc.pickle', mode='rb') as f:\n",
    "    dict_pickle = pickle.load(f)\n",
    "\n",
    "svc = dict_pickle[\"svc\"]\n",
    "X_scaler = dict_pickle[\"X_scaler\"]\n",
    "color_space = dict_pickle[\"color_space\"]\n",
    "orient = dict_pickle[\"orient\"]\n",
    "pix_per_cell = dict_pickle[\"pix_per_cell\"]\n",
    "cell_per_block = dict_pickle[\"cell_per_block\"]\n",
    "hog_channel = dict_pickle[\"hog_channel\"]\n",
    "spatial_size = dict_pickle[\"spatial_size\"]\n",
    "hist_bins = dict_pickle[\"hist_bins\"]\n",
    "spatial_feat = dict_pickle[\"spatial_feat\"]\n",
    "hist_feat = dict_pickle[\"hist_feat\"]\n",
    "hog_feat = dict_pickle[\"hog_feat\"]"
   ]
  },
  {
   "cell_type": "code",
   "execution_count": 4,
   "metadata": {
    "collapsed": true
   },
   "outputs": [],
   "source": [
    "ystart = 400\n",
    "ystop = 656\n",
    "\n",
    "# low pass filter version\n",
    "def process_image(image):\n",
    "    #image = undistort(image)\n",
    "    \n",
    "    heat = np.zeros_like(image[:,:,0]).astype(np.float)\n",
    "    \n",
    "    bbox_lists = [];\n",
    "    \n",
    "    for scale in [1.5, 2.0]:\n",
    "        # Execute SVC classifier to find car\n",
    "        bbox_list = find_cars(image, ystart, ystop, scale, svc, X_scaler, orient, pix_per_cell, cell_per_block, spatial_size, hist_bins, return_bbox = True)\n",
    "        \n",
    "        # Add heat to each box in box list\n",
    "        heat = add_heat(heat,bbox_list)\n",
    "        \n",
    "    heat_hist[0] = 0.2 * heat + 0.8 * heat_hist[0]\n",
    "    \n",
    "    # Apply threshold to help remove false positives\n",
    "    heat = apply_threshold(heat_hist[0],0.5)\n",
    "\n",
    "    # Visualize the heatmap when displaying    \n",
    "    heatmap = np.clip(heat, 0, 255)\n",
    "\n",
    "    # Find final boxes from heatmap using label function\n",
    "    labels = label(heatmap)\n",
    "    draw_img = draw_labeled_bboxes(np.copy(image), labels)\n",
    "    \n",
    "    return draw_img"
   ]
  },
  {
   "cell_type": "code",
   "execution_count": 5,
   "metadata": {},
   "outputs": [
    {
     "name": "stdout",
     "output_type": "stream",
     "text": [
      "[MoviePy] >>>> Building video project_video_result2.mp4\n",
      "[MoviePy] Writing video project_video_result2.mp4\n"
     ]
    },
    {
     "name": "stderr",
     "output_type": "stream",
     "text": [
      "100%|██████████████████████████████████████████████████████████████████████████▉| 1260/1261 [10:27<00:00,  1.99it/s]\n"
     ]
    },
    {
     "name": "stdout",
     "output_type": "stream",
     "text": [
      "[MoviePy] Done.\n",
      "[MoviePy] >>>> Video ready: project_video_result2.mp4 \n",
      "\n",
      "Wall time: 10min 40s\n"
     ]
    }
   ],
   "source": [
    "# Process video with heatmap\n",
    "from moviepy.editor import VideoFileClip\n",
    "from IPython.display import HTML\n",
    "\n",
    "heat_hist = [np.zeros((720,1280),dtype=np.float)]\n",
    "\n",
    "project_output = 'project_video_result2.mp4'\n",
    "clip1 = VideoFileClip(\"project_video.mp4\")\n",
    "project_clip = clip1.fl_image(process_image) #NOTE: this function expects color images!!\n",
    "%time project_clip.write_videofile(project_output, audio=False)"
   ]
  },
  {
   "cell_type": "code",
   "execution_count": null,
   "metadata": {
    "collapsed": true
   },
   "outputs": [],
   "source": []
  }
 ],
 "metadata": {
  "kernelspec": {
   "display_name": "Python 3",
   "language": "python",
   "name": "python3"
  },
  "language_info": {
   "codemirror_mode": {
    "name": "ipython",
    "version": 3
   },
   "file_extension": ".py",
   "mimetype": "text/x-python",
   "name": "python",
   "nbconvert_exporter": "python",
   "pygments_lexer": "ipython3",
   "version": "3.5.2"
  },
  "widgets": {
   "state": {},
   "version": "1.1.2"
  }
 },
 "nbformat": 4,
 "nbformat_minor": 2
}
