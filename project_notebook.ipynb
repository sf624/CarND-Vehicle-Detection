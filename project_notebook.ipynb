{
 "cells": [
  {
   "cell_type": "code",
   "execution_count": 1,
   "metadata": {},
   "outputs": [],
   "source": [
    "import matplotlib.image as mpimg\n",
    "import matplotlib.pyplot as plt\n",
    "import numpy as np\n",
    "import cv2\n",
    "import glob\n",
    "import time\n",
    "import pickle\n",
    "from sklearn.svm import LinearSVC\n",
    "from sklearn.preprocessing import StandardScaler\n",
    "from skimage.feature import hog\n",
    "from sklearn.model_selection import train_test_split\n",
    "from sklearn.externals import joblib\n",
    "from lesson_functions import *\n",
    "from scipy.ndimage.measurements import label"
   ]
  },
  {
   "cell_type": "code",
   "execution_count": 2,
   "metadata": {
    "collapsed": true
   },
   "outputs": [],
   "source": [
    "# Load pre-trained SVM classifier\n",
    "with open('svc.pickle', mode='rb') as f:\n",
    "    dict_pickle = pickle.load(f)\n",
    "\n",
    "svc = dict_pickle[\"svc\"]\n",
    "X_scaler = dict_pickle[\"X_scaler\"]\n",
    "color_space = dict_pickle[\"color_space\"]\n",
    "orient = dict_pickle[\"orient\"]\n",
    "pix_per_cell = dict_pickle[\"pix_per_cell\"]\n",
    "cell_per_block = dict_pickle[\"cell_per_block\"]\n",
    "hog_channel = dict_pickle[\"hog_channel\"]\n",
    "spatial_size = dict_pickle[\"spatial_size\"]\n",
    "hist_bins = dict_pickle[\"hist_bins\"]\n",
    "spatial_feat = dict_pickle[\"spatial_feat\"]\n",
    "hist_feat = dict_pickle[\"hist_feat\"]\n",
    "hog_feat = dict_pickle[\"hog_feat\"]"
   ]
  },
  {
   "cell_type": "code",
   "execution_count": 26,
   "metadata": {
    "collapsed": true
   },
   "outputs": [],
   "source": [
    "# Define function that generate images including vehicle detection\n",
    "\n",
    "ystart = 400\n",
    "ystop = 656\n",
    "\n",
    "# low pass filter version\n",
    "def process_image(image):\n",
    "    \n",
    "    # Initialize temporial heat map\n",
    "    heat = np.zeros_like(image[:,:,0]).astype(np.float)\n",
    "    \n",
    "    # Run SVC on 3 scales and add on heat on temporial heat map\n",
    "    for scale in [1.0, 1.5, 2.0]:\n",
    "        # Execute SVC classifier to find car\n",
    "        bbox_list = find_cars(image, ystart, ystop, scale, svc, X_scaler, orient, pix_per_cell, cell_per_block, spatial_size, hist_bins, return_bbox = True)\n",
    "        \n",
    "        # Add heat to each box in box list\n",
    "        heat = add_heat(heat,bbox_list)\n",
    "    \n",
    "    # Limit temporial heat map not to exceed 1\n",
    "    heat[heat > 0] = 1\n",
    "    \n",
    "    # Run low pass filter\n",
    "    # heat_hist[0] is the final result of present heat map\n",
    "    heat_hist[0] = 0.1 * heat + 0.9 * heat_hist[0]\n",
    "    \n",
    "    heat = np.copy(heat_hist[0])\n",
    "    heat_thresh = np.copy(heat)\n",
    "    \n",
    "    # Apply threshold to help remove false positives\n",
    "    heat_thresh = apply_threshold(heat_thresh,0.7)\n",
    "\n",
    "    # Visualize the heatmap when displaying    \n",
    "    heatmap = np.clip(heat * 255, 0, 255)\n",
    "    heatmap_thresh = np.clip(heat_thresh, 0, 255)\n",
    "    \n",
    "    # Find and draw final boxes from thresholded heatmap using label function\n",
    "    labels = label(heatmap_thresh)\n",
    "    draw_img = draw_labeled_bboxes(np.copy(image), labels)\n",
    "    \n",
    "    # Draw raw heatmap on video image\n",
    "    heatmap_image = np.zeros_like(draw_img)\n",
    "    heatmap_image[:,:,0] = heatmap\n",
    "    result = cv2.addWeighted(draw_img, 0.7, heatmap_image, 0.3, 0.0)\n",
    "    \n",
    "    return result"
   ]
  },
  {
   "cell_type": "code",
   "execution_count": 27,
   "metadata": {},
   "outputs": [
    {
     "name": "stdout",
     "output_type": "stream",
     "text": [
      "[MoviePy] >>>> Building video test_video_result5.mp4\n",
      "[MoviePy] Writing video test_video_result5.mp4\n"
     ]
    },
    {
     "name": "stderr",
     "output_type": "stream",
     "text": [
      " 97%|████████████████████████████████████████████████████████████████████████████▉  | 38/39 [00:48<00:01,  1.30s/it]\n"
     ]
    },
    {
     "name": "stdout",
     "output_type": "stream",
     "text": [
      "[MoviePy] Done.\n",
      "[MoviePy] >>>> Video ready: test_video_result5.mp4 \n",
      "\n",
      "Wall time: 51.1 s\n"
     ]
    }
   ],
   "source": [
    "# Process test video\n",
    "from moviepy.editor import VideoFileClip\n",
    "from IPython.display import HTML\n",
    "\n",
    "heat_hist = [np.zeros((720,1280),dtype=np.float)]\n",
    "\n",
    "project_output = 'test_video_result5.mp4'\n",
    "clip1 = VideoFileClip(\"test_video.mp4\")\n",
    "project_clip = clip1.fl_image(process_image) #NOTE: this function expects color images!!\n",
    "%time project_clip.write_videofile(project_output, audio=False)"
   ]
  },
  {
   "cell_type": "code",
   "execution_count": 28,
   "metadata": {},
   "outputs": [
    {
     "name": "stdout",
     "output_type": "stream",
     "text": [
      "[MoviePy] >>>> Building video project_video_result4.mp4\n",
      "[MoviePy] Writing video project_video_result4.mp4\n"
     ]
    },
    {
     "name": "stderr",
     "output_type": "stream",
     "text": [
      "100%|██████████████████████████████████████████████████████████████████████████▉| 1260/1261 [26:46<00:01,  1.28s/it]\n"
     ]
    },
    {
     "name": "stdout",
     "output_type": "stream",
     "text": [
      "[MoviePy] Done.\n",
      "[MoviePy] >>>> Video ready: project_video_result4.mp4 \n",
      "\n",
      "Wall time: 26min 49s\n"
     ]
    }
   ],
   "source": [
    "# Process project video\n",
    "from moviepy.editor import VideoFileClip\n",
    "from IPython.display import HTML\n",
    "\n",
    "heat_hist = [np.zeros((720,1280),dtype=np.float)]\n",
    "\n",
    "project_output = 'project_video_result.mp4'\n",
    "clip1 = VideoFileClip(\"project_video.mp4\")\n",
    "project_clip = clip1.fl_image(process_image) #NOTE: this function expects color images!!\n",
    "%time project_clip.write_videofile(project_output, audio=False)"
   ]
  },
  {
   "cell_type": "code",
   "execution_count": null,
   "metadata": {
    "collapsed": true
   },
   "outputs": [],
   "source": []
  }
 ],
 "metadata": {
  "kernelspec": {
   "display_name": "Python 3",
   "language": "python",
   "name": "python3"
  },
  "language_info": {
   "codemirror_mode": {
    "name": "ipython",
    "version": 3
   },
   "file_extension": ".py",
   "mimetype": "text/x-python",
   "name": "python",
   "nbconvert_exporter": "python",
   "pygments_lexer": "ipython3",
   "version": "3.5.2"
  },
  "widgets": {
   "state": {},
   "version": "1.1.2"
  }
 },
 "nbformat": 4,
 "nbformat_minor": 2
}
